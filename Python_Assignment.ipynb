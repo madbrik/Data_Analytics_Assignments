{
 "cells": [
  {
   "cell_type": "code",
   "execution_count": 6,
   "id": "78f4d3aa",
   "metadata": {},
   "outputs": [
    {
     "name": "stdout",
     "output_type": "stream",
     "text": [
      "Katie Tamuno\n",
      "Bicah Tamuno\n",
      "Lemah Tamuno\n",
      "Judie Tamuno\n"
     ]
    }
   ],
   "source": [
    "#Write a code that will create a file that will add their surnames to their names and store in the file.\n",
    "\n",
    "first_names = [\"katie\", \"bicah\", \"lemah\", \"judie\"]\n",
    "surname = [\"tamuno\"]\n",
    "\n",
    "a = f\"{first_names[0]} {surname[0]}\"\n",
    "b = f\"{first_names[1]} {surname[0]}\"\n",
    "c = f\"{first_names[2]} {surname[0]}\"\n",
    "d = f\"{first_names[3]} {surname[0]}\"\n",
    "\n",
    "print(a.title())\n",
    "print(b.title())\n",
    "print(c.title())\n",
    "print(d.title())\n",
    "\n"
   ]
  },
  {
   "cell_type": "code",
   "execution_count": null,
   "id": "73bc7696",
   "metadata": {},
   "outputs": [],
   "source": []
  }
 ],
 "metadata": {
  "kernelspec": {
   "display_name": "Python 3 (ipykernel)",
   "language": "python",
   "name": "python3"
  },
  "language_info": {
   "codemirror_mode": {
    "name": "ipython",
    "version": 3
   },
   "file_extension": ".py",
   "mimetype": "text/x-python",
   "name": "python",
   "nbconvert_exporter": "python",
   "pygments_lexer": "ipython3",
   "version": "3.11.0"
  }
 },
 "nbformat": 4,
 "nbformat_minor": 5
}
