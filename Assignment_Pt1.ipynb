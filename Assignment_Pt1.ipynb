{
 "cells": [
  {
   "cell_type": "code",
   "execution_count": null,
   "id": "d8968742",
   "metadata": {},
   "outputs": [],
   "source": [
    "#1\n",
    "#Write a program that generates and prints 50 random integers, each between 3 and 6.\n",
    "\n",
    "import random\n",
    "\n",
    "rand_list = []\n",
    "for i in range(0,50):\n",
    "    n = random.randint(3,6)\n",
    "    rand_list.append(n)\n",
    "print(rand_list)"
   ]
  },
  {
   "cell_type": "code",
   "execution_count": null,
   "id": "e609c05d",
   "metadata": {},
   "outputs": [],
   "source": [
    "#2\n",
    "#Write a program that generates a random number, x, between 1 and 50, a random number y between 2 and 5, and computes xy.\n",
    "\n",
    "x = random.randint(1,50)\n",
    "y = random.randint(2,5)\n",
    "\n",
    "result = pow(x,y)\n",
    "\n",
    "print(\"X=\", x)\n",
    "print(\"Y=\", y)\n",
    "print (\"X to the power of Y =\",result)"
   ]
  },
  {
   "cell_type": "code",
   "execution_count": null,
   "id": "d0441d61",
   "metadata": {},
   "outputs": [],
   "source": [
    "#3\n",
    "#Write a program that generates a random number between 1 and 10 and prints your name that many times.\n",
    "\n",
    "x = randint(1,10)\n",
    "for i in range(x):\n",
    "    print(\"Iyke \")"
   ]
  },
  {
   "cell_type": "code",
   "execution_count": null,
   "id": "55fb2b2d",
   "metadata": {},
   "outputs": [],
   "source": [
    "#4\n",
    "#rite a program that generates a random decimal number between 1 and 10 with two decimal places of accuracy.\n",
    "#Examples are 1.23, 3.45, 9.80, and 5.00\n",
    "\n",
    "import random\n",
    "x=round(random.random()*9+1,2)\n",
    "print('rand_decimal: ',x)"
   ]
  },
  {
   "cell_type": "code",
   "execution_count": null,
   "id": "f60b579e",
   "metadata": {},
   "outputs": [],
   "source": [
    "#5\n",
    "#Write a program that generates 50 random numbers such that the ﬁrst number is between 1and 2, the second is between 1 and 3, \n",
    "#the third is between 1 and 4, . . . , and the last is between 1 and 51.\n",
    "\n",
    "from random import randint\n",
    "for n in range(1,51):\n",
    " x=randint(1,n+1)\n",
    " print(n,'. rand_nums : ',x)"
   ]
  },
  {
   "cell_type": "code",
   "execution_count": null,
   "id": "7c13d29b",
   "metadata": {},
   "outputs": [],
   "source": [
    "#6\n",
    "#Write a program that asks the user to enter two numbers, x and y, and computes [x-y]/x+y\n",
    "\n",
    "x = eval(input('Enter first number: '))\n",
    "y = eval(input('Enter second number: '))\n",
    "print('Result is:', (x-y)/x+y)"
   ]
  },
  {
   "cell_type": "code",
   "execution_count": null,
   "id": "de11c3e4",
   "metadata": {},
   "outputs": [],
   "source": [
    "#7\n",
    "#\n",
    "\n",
    "x=eval(input('Enter angle between -180 and 180 : '))\n",
    "y=x%360\n",
    "print('Result:',x,' equivalent: ',y)"
   ]
  },
  {
   "cell_type": "code",
   "execution_count": null,
   "id": "ea34b5ff",
   "metadata": {},
   "outputs": [],
   "source": [
    "#8\n",
    "#Write a program that asks the user for a number of seconds and prints out how many minutesand seconds that is. For instance,\n",
    "#200 seconds is 3 minutes and 20 seconds. [Hint: Use the // operator to get minutes and the % operator to get seconds.]\n",
    "\n",
    "x=eval(input('Number of seconds '))\n",
    "y=round(x/60)\n",
    "z=x%60\n",
    "print(x, ' Seconds is same as:',y, 'Minutes ',z,' seconds')\n"
   ]
  },
  {
   "cell_type": "code",
   "execution_count": null,
   "id": "664de025",
   "metadata": {},
   "outputs": [],
   "source": [
    "#9\n",
    "#Write a program that asks the user for an hour between 1 and 12 and for how many hours inthe future they want to go. \n",
    "#Print out what the hour will be that many hours into the future.\n",
    "\n",
    "\n",
    "x=eval(input('Enter hour: '))\n",
    "y=eval(input('How many hours ahead: '))\n",
    "z=(x+y)%12\n",
    "print('Enter hour:',x, 'Hours ahead:',y, ' New hour:', z)"
   ]
  },
  {
   "cell_type": "code",
   "execution_count": null,
   "id": "36eea617",
   "metadata": {},
   "outputs": [],
   "source": [
    "#11\n",
    "#Write a program that asks the user to enter a weight in kilograms. The program should convert it to pounds, \n",
    "#printing the answer rounded to the nearest tenth of a pound.\n",
    "\n",
    "#1kg = 2.205 pounds\n",
    "weight = eval(input('Enter a weight in Kg: '))\n",
    "print('In Pounds, that is', weight*2.205)"
   ]
  },
  {
   "cell_type": "code",
   "execution_count": null,
   "id": "eb836391",
   "metadata": {},
   "outputs": [],
   "source": [
    "#12\n",
    "#Write a program that asks the user for a number and prints out the factorial of that number\n",
    "\n",
    "numb = eval(input('Enter a number: '))\n",
    "print('Factorial of number is:', factorial(numb))\n",
    "\n",
    "#Alternatively,\n",
    "\n",
    "num = int(input(\"Enter a number: \"))\n",
    "factorial = 1\n",
    "\n",
    "for i in range(1,num + 1):\n",
    "    factorial=factorial*i\n",
    "print(\"The factorial of\",num,\"is\",factorial)\n"
   ]
  },
  {
   "cell_type": "code",
   "execution_count": null,
   "id": "ca2c6908",
   "metadata": {},
   "outputs": [],
   "source": [
    "#13\n",
    "#Write a program that asks the user for a number and then prints out the sine, cosine, and tangent of that number.\n",
    "\n",
    "\n",
    "from math import sin\n",
    "numb = eval(input('Enter a number: '))\n",
    "print('sine of number:', sin(numb))\n",
    "print('cosine of number:', cos(numb))\n",
    "print('tangent of number:', tan(numb))"
   ]
  }
 ],
 "metadata": {
  "kernelspec": {
   "display_name": "Python 3 (ipykernel)",
   "language": "python",
   "name": "python3"
  },
  "language_info": {
   "codemirror_mode": {
    "name": "ipython",
    "version": 3
   },
   "file_extension": ".py",
   "mimetype": "text/x-python",
   "name": "python",
   "nbconvert_exporter": "python",
   "pygments_lexer": "ipython3",
   "version": "3.11.0"
  }
 },
 "nbformat": 4,
 "nbformat_minor": 5
}
